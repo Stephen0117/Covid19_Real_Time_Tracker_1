{
 "cells": [
  {
   "cell_type": "code",
   "execution_count": null,
   "metadata": {},
   "outputs": [],
   "source": [
    "#Source:\n",
    "\n",
    "##Covid_Cases:\n",
    "# https://www.theedgemarkets.com/latest-news-covid19-virus\n",
    "\n",
    "##Twitter:\n",
    "# Twitter developer account"
   ]
  },
  {
   "cell_type": "code",
   "execution_count": 3,
   "metadata": {},
   "outputs": [],
   "source": [
    "from datetime import date"
   ]
  },
  {
   "cell_type": "code",
   "execution_count": 9,
   "metadata": {
    "colab": {},
    "colab_type": "code",
    "id": "6U4NYJWILBKz",
    "outputId": "da861fca-62e8-4206-d3bc-ec0fc47fd528",
    "scrolled": false
   },
   "outputs": [
    {
     "name": "stdout",
     "output_type": "stream",
     "text": [
      "{\"created_at\": \"Tue Feb 25 02:33:49 +0000 2020\", \"default_profile\": true, \"default_profile_image\": true, \"id\": 1232131440512421888, \"id_str\": \"1232131440512421888\", \"name\": \"CS Chua\", \"profile_background_color\": \"F5F8FA\", \"profile_image_url\": \"http://abs.twimg.com/sticky/default_profile_images/default_profile_normal.png\", \"profile_image_url_https\": \"https://abs.twimg.com/sticky/default_profile_images/default_profile_normal.png\", \"profile_link_color\": \"1DA1F2\", \"profile_sidebar_border_color\": \"C0DEED\", \"profile_sidebar_fill_color\": \"DDEEF6\", \"profile_text_color\": \"333333\", \"profile_use_background_image\": true, \"screen_name\": \"CSChua5\"}\n"
     ]
    }
   ],
   "source": [
    "import twitter\n",
    "import numpy as np \n",
    "import pandas as pd\n",
    "\n",
    "# initialize api instance\n",
    "twitter_api = twitter.Api(consumer_key='XXXXX',\n",
    "                        consumer_secret='XXXXXXXXX',\n",
    "                        access_token_key='XXXXXXXXXXX',\n",
    "                        access_token_secret='XXXXXXXXXXX')\n",
    "\n",
    "# test authentication\n",
    "print(twitter_api.VerifyCredentials())\n",
    "\n",
    "search_keyword = 'covid-19 OR wuhanvirus OR coronavirus -filter:retweets'\n",
    "\n",
    "try:\n",
    "    tweets = twitter_api.GetSearch(term = search_keyword,lang='en',result_type='recent',count = 100)\n",
    "except:\n",
    "    print(\"Unfortunately, something went wrong..\")\n",
    "    \n",
    "tw_data = pd.DataFrame(tweets)\n",
    "filename = 'twitter_data_' + date.today().strftime(\"%Y%m%d\") + '.txt'\n",
    "#tw_data.to_csv(filename, index=False,header=False, quoting=csv.QUOTE_NONE)\n",
    "np.savetxt(filename, tw_data.values, fmt = \"%s\")"
   ]
  },
  {
   "cell_type": "code",
   "execution_count": 10,
   "metadata": {
    "colab": {},
    "colab_type": "code",
    "id": "IeoIyQnsLBK8",
    "outputId": "c402e83e-2275-4ffa-b886-8e8919b565d0"
   },
   "outputs": [
    {
     "name": "stdout",
     "output_type": "stream",
     "text": [
      "Scraping https://www.theedgemarkets.com/latest-news-covid19-virus\n"
     ]
    }
   ],
   "source": [
    "import requests\n",
    "import pandas as pd\n",
    "from bs4 import BeautifulSoup\n",
    "from datetime import date\n",
    "\n",
    "url = 'https://www.theedgemarkets.com/latest-news-covid19-virus'\n",
    "print('Scraping', url)\n",
    "\n",
    "co_html_doc = requests.get(url)\n",
    "soup = BeautifulSoup(co_html_doc.text, 'html.parser')\n",
    "\n",
    "#find table of financial reports\n",
    "table = soup('table')\n",
    "\n",
    "df = pd.read_html(str(table))\n",
    "filename = 'covid-19_' + date.today().strftime(\"%Y%m%d\") + '.csv'\n",
    "df[0].to_csv(filename)"
   ]
  }
 ],
 "metadata": {
  "colab": {
   "name": "WQD7005 - Web Crawling .ipynb",
   "provenance": []
  },
  "kernelspec": {
   "display_name": "Python 3",
   "language": "python",
   "name": "python3"
  },
  "language_info": {
   "codemirror_mode": {
    "name": "ipython",
    "version": 3
   },
   "file_extension": ".py",
   "mimetype": "text/x-python",
   "name": "python",
   "nbconvert_exporter": "python",
   "pygments_lexer": "ipython3",
   "version": "3.7.6"
  }
 },
 "nbformat": 4,
 "nbformat_minor": 1
}
