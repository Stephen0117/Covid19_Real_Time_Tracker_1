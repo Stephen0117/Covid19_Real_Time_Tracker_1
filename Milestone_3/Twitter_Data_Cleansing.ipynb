{
 "cells": [
  {
   "cell_type": "code",
   "execution_count": 1,
   "metadata": {},
   "outputs": [],
   "source": [
    "import pandas as pd\n",
    "import numpy as np\n",
    "import re\n",
    "import nltk\n",
    "import string\n",
    "import datetime\n",
    "import json\n",
    "from datetime import date\n",
    "from nltk.corpus import stopwords"
   ]
  },
  {
   "cell_type": "code",
   "execution_count": 2,
   "metadata": {},
   "outputs": [],
   "source": [
    "#columns of the csv file\n",
    "COLS = ['id', 'created_at', 'text']"
   ]
  },
  {
   "cell_type": "code",
   "execution_count": 3,
   "metadata": {},
   "outputs": [],
   "source": [
    "tweets = []\n",
    "for line in open(\"twitter_data_20200508.txt\",\"r\"):\n",
    "    tweets.append(json.loads(line))"
   ]
  },
  {
   "cell_type": "code",
   "execution_count": 4,
   "metadata": {},
   "outputs": [],
   "source": [
    "RDB = {}\n",
    "for var in COLS:\n",
    "    Text = []\n",
    "    for i in range(0,len(tweets)):\n",
    "        Text.append(tweets[i][var])\n",
    "    RDB[var]=Text"
   ]
  },
  {
   "cell_type": "code",
   "execution_count": 5,
   "metadata": {},
   "outputs": [],
   "source": [
    "#Emoji patterns\n",
    "emoji_pattern = re.compile(\"[\"\n",
    "         u\"\\U0001F600-\\U0001F64F\"  # emoticons\n",
    "         u\"\\U0001F300-\\U0001F5FF\"  # symbols & pictographs\n",
    "         u\"\\U0001F680-\\U0001F6FF\"  # transport & map symbols\n",
    "         u\"\\U0001F1E0-\\U0001F1FF\"  # flags (iOS)\n",
    "         u\"\\U00002702-\\U000027B0\"\n",
    "         u\"\\U000024C2-\\U0001F251\"\n",
    "         \"]+\", flags=re.UNICODE)"
   ]
  },
  {
   "cell_type": "code",
   "execution_count": 9,
   "metadata": {},
   "outputs": [],
   "source": [
    "##Cleaning & Convert Twitter Data to dataframe\n",
    "\n",
    "def TwitterCleaning(DB):\n",
    "    \n",
    "    HDB = pd.DataFrame(DB)\n",
    "    \n",
    "    #Converting Datetime\n",
    "    HDB['created_at'] = pd.to_datetime(HDB['created_at'])\n",
    "\n",
    "    #Cleaning HTML Tags\n",
    "    HDB['text']=HDB['text'].apply(lambda x: re.sub('<[^>]*>','',x))\n",
    "\n",
    "    #Cleaning URL link\n",
    "    HDB['text']=HDB['text'].apply(lambda x: re.sub(r\"http\\S+\", \"\", x))\n",
    "\n",
    "    #Cleaning punctuations\n",
    "    HDB['text']=HDB['text'].apply(lambda x: x.translate(str.maketrans('', '', string.punctuation)))\n",
    "\n",
    "    #lower Case\n",
    "    HDB['text']=HDB['text'].apply(lambda x: x.lower())\n",
    "    \n",
    "    #Remove Emoji\n",
    "    HDB['text']=HDB['text'].apply(lambda x: emoji_pattern.sub(r'',x))\n",
    "    \n",
    "    return HDB"
   ]
  },
  {
   "cell_type": "code",
   "execution_count": 10,
   "metadata": {},
   "outputs": [
    {
     "data": {
      "text/html": [
       "<div>\n",
       "<style scoped>\n",
       "    .dataframe tbody tr th:only-of-type {\n",
       "        vertical-align: middle;\n",
       "    }\n",
       "\n",
       "    .dataframe tbody tr th {\n",
       "        vertical-align: top;\n",
       "    }\n",
       "\n",
       "    .dataframe thead th {\n",
       "        text-align: right;\n",
       "    }\n",
       "</style>\n",
       "<table border=\"1\" class=\"dataframe\">\n",
       "  <thead>\n",
       "    <tr style=\"text-align: right;\">\n",
       "      <th></th>\n",
       "      <th>id</th>\n",
       "      <th>created_at</th>\n",
       "      <th>text</th>\n",
       "    </tr>\n",
       "  </thead>\n",
       "  <tbody>\n",
       "    <tr>\n",
       "      <th>0</th>\n",
       "      <td>1258700643809677314</td>\n",
       "      <td>2020-05-08 10:09:53+00:00</td>\n",
       "      <td>us fda clears pluristem’s ind application fo...</td>\n",
       "    </tr>\n",
       "    <tr>\n",
       "      <th>1</th>\n",
       "      <td>1258700640198541312</td>\n",
       "      <td>2020-05-08 10:09:52+00:00</td>\n",
       "      <td>join me ericsson unboxed office webcast\\nbuild...</td>\n",
       "    </tr>\n",
       "    <tr>\n",
       "      <th>2</th>\n",
       "      <td>1258700639875608577</td>\n",
       "      <td>2020-05-08 10:09:52+00:00</td>\n",
       "      <td>rcbregman  in time magazine the age of excessi...</td>\n",
       "    </tr>\n",
       "    <tr>\n",
       "      <th>3</th>\n",
       "      <td>1258700638629826560</td>\n",
       "      <td>2020-05-08 10:09:52+00:00</td>\n",
       "      <td>if anyone else wants to report this rubber fac...</td>\n",
       "    </tr>\n",
       "    <tr>\n",
       "      <th>4</th>\n",
       "      <td>1258700637606420482</td>\n",
       "      <td>2020-05-08 10:09:52+00:00</td>\n",
       "      <td>on air paul potts  adding value to lives daily...</td>\n",
       "    </tr>\n",
       "    <tr>\n",
       "      <th>...</th>\n",
       "      <td>...</td>\n",
       "      <td>...</td>\n",
       "      <td>...</td>\n",
       "    </tr>\n",
       "    <tr>\n",
       "      <th>95</th>\n",
       "      <td>1258700559688892416</td>\n",
       "      <td>2020-05-08 10:09:33+00:00</td>\n",
       "      <td>watching the ve day celebrations really puts t...</td>\n",
       "    </tr>\n",
       "    <tr>\n",
       "      <th>96</th>\n",
       "      <td>1258700558094856193</td>\n",
       "      <td>2020-05-08 10:09:33+00:00</td>\n",
       "      <td>palestinians more likely to die from covid19 i...</td>\n",
       "    </tr>\n",
       "    <tr>\n",
       "      <th>97</th>\n",
       "      <td>1258700557629431815</td>\n",
       "      <td>2020-05-08 10:09:33+00:00</td>\n",
       "      <td>kiddwikked realjameswoods erm because they did...</td>\n",
       "    </tr>\n",
       "    <tr>\n",
       "      <th>98</th>\n",
       "      <td>1258700557201453056</td>\n",
       "      <td>2020-05-08 10:09:33+00:00</td>\n",
       "      <td>we’re under pressure to announce false covid19...</td>\n",
       "    </tr>\n",
       "    <tr>\n",
       "      <th>99</th>\n",
       "      <td>1258700557029523456</td>\n",
       "      <td>2020-05-08 10:09:32+00:00</td>\n",
       "      <td>how a virtual powwow helped heal a spirit brok...</td>\n",
       "    </tr>\n",
       "  </tbody>\n",
       "</table>\n",
       "<p>100 rows × 3 columns</p>\n",
       "</div>"
      ],
      "text/plain": [
       "                     id                created_at  \\\n",
       "0   1258700643809677314 2020-05-08 10:09:53+00:00   \n",
       "1   1258700640198541312 2020-05-08 10:09:52+00:00   \n",
       "2   1258700639875608577 2020-05-08 10:09:52+00:00   \n",
       "3   1258700638629826560 2020-05-08 10:09:52+00:00   \n",
       "4   1258700637606420482 2020-05-08 10:09:52+00:00   \n",
       "..                  ...                       ...   \n",
       "95  1258700559688892416 2020-05-08 10:09:33+00:00   \n",
       "96  1258700558094856193 2020-05-08 10:09:33+00:00   \n",
       "97  1258700557629431815 2020-05-08 10:09:33+00:00   \n",
       "98  1258700557201453056 2020-05-08 10:09:33+00:00   \n",
       "99  1258700557029523456 2020-05-08 10:09:32+00:00   \n",
       "\n",
       "                                                 text  \n",
       "0     us fda clears pluristem’s ind application fo...  \n",
       "1   join me ericsson unboxed office webcast\\nbuild...  \n",
       "2   rcbregman  in time magazine the age of excessi...  \n",
       "3   if anyone else wants to report this rubber fac...  \n",
       "4   on air paul potts  adding value to lives daily...  \n",
       "..                                                ...  \n",
       "95  watching the ve day celebrations really puts t...  \n",
       "96  palestinians more likely to die from covid19 i...  \n",
       "97  kiddwikked realjameswoods erm because they did...  \n",
       "98  we’re under pressure to announce false covid19...  \n",
       "99  how a virtual powwow helped heal a spirit brok...  \n",
       "\n",
       "[100 rows x 3 columns]"
      ]
     },
     "execution_count": 10,
     "metadata": {},
     "output_type": "execute_result"
    }
   ],
   "source": [
    "FDB = TwitterCleaning(RDB)"
   ]
  },
  {
   "cell_type": "code",
   "execution_count": 11,
   "metadata": {},
   "outputs": [],
   "source": [
    "FDB.to_csv(\"Cleaned_Twitter_Data.csv\")"
   ]
  }
 ],
 "metadata": {
  "kernelspec": {
   "display_name": "Python 3",
   "language": "python",
   "name": "python3"
  },
  "language_info": {
   "codemirror_mode": {
    "name": "ipython",
    "version": 3
   },
   "file_extension": ".py",
   "mimetype": "text/x-python",
   "name": "python",
   "nbconvert_exporter": "python",
   "pygments_lexer": "ipython3",
   "version": "3.7.7"
  }
 },
 "nbformat": 4,
 "nbformat_minor": 4
}
